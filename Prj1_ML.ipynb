{
  "cells": [
    {
      "cell_type": "markdown",
      "metadata": {
        "id": "view-in-github",
        "colab_type": "text"
      },
      "source": [
        "<a href=\"https://colab.research.google.com/github/chandrusrini679/assignments-3/blob/main/Prj1_ML.ipynb\" target=\"_parent\"><img src=\"https://colab.research.google.com/assets/colab-badge.svg\" alt=\"Open In Colab\"/></a>"
      ]
    },
    {
      "cell_type": "markdown",
      "id": "80144624",
      "metadata": {
        "id": "80144624"
      },
      "source": [
        "# 1. Import lib"
      ]
    },
    {
      "cell_type": "code",
      "execution_count": null,
      "id": "00cc2167",
      "metadata": {
        "id": "00cc2167"
      },
      "outputs": [],
      "source": [
        "import numpy as np\n",
        "import pandas as pd\n",
        "from pandas import Series, DataFrame\n",
        "import matplotlib.pyplot as plt\n",
        "import seaborn as sns\n",
        "%matplotlib inline"
      ]
    },
    {
      "cell_type": "markdown",
      "id": "cea9c0c7",
      "metadata": {
        "id": "cea9c0c7"
      },
      "source": [
        "# 2. Load Dataset"
      ]
    },
    {
      "cell_type": "code",
      "execution_count": null,
      "id": "04df908a",
      "metadata": {
        "id": "04df908a"
      },
      "outputs": [],
      "source": [
        "iris = pd.read_csv(\"Iris.csv\")"
      ]
    },
    {
      "cell_type": "code",
      "execution_count": null,
      "id": "84796168",
      "metadata": {
        "id": "84796168",
        "outputId": "32c34c53-d83c-4c7a-8a45-77c4a67e56bd"
      },
      "outputs": [
        {
          "data": {
            "text/html": [
              "<div>\n",
              "<style scoped>\n",
              "    .dataframe tbody tr th:only-of-type {\n",
              "        vertical-align: middle;\n",
              "    }\n",
              "\n",
              "    .dataframe tbody tr th {\n",
              "        vertical-align: top;\n",
              "    }\n",
              "\n",
              "    .dataframe thead th {\n",
              "        text-align: right;\n",
              "    }\n",
              "</style>\n",
              "<table border=\"1\" class=\"dataframe\">\n",
              "  <thead>\n",
              "    <tr style=\"text-align: right;\">\n",
              "      <th></th>\n",
              "      <th>Id</th>\n",
              "      <th>SepalLengthCm</th>\n",
              "      <th>SepalWidthCm</th>\n",
              "      <th>PetalLengthCm</th>\n",
              "      <th>PetalWidthCm</th>\n",
              "      <th>Species</th>\n",
              "    </tr>\n",
              "  </thead>\n",
              "  <tbody>\n",
              "    <tr>\n",
              "      <th>0</th>\n",
              "      <td>1</td>\n",
              "      <td>5.1</td>\n",
              "      <td>3.5</td>\n",
              "      <td>1.4</td>\n",
              "      <td>0.2</td>\n",
              "      <td>Iris-setosa</td>\n",
              "    </tr>\n",
              "    <tr>\n",
              "      <th>1</th>\n",
              "      <td>2</td>\n",
              "      <td>4.9</td>\n",
              "      <td>3.0</td>\n",
              "      <td>1.4</td>\n",
              "      <td>0.2</td>\n",
              "      <td>Iris-setosa</td>\n",
              "    </tr>\n",
              "    <tr>\n",
              "      <th>2</th>\n",
              "      <td>3</td>\n",
              "      <td>4.7</td>\n",
              "      <td>3.2</td>\n",
              "      <td>1.3</td>\n",
              "      <td>0.2</td>\n",
              "      <td>Iris-setosa</td>\n",
              "    </tr>\n",
              "    <tr>\n",
              "      <th>3</th>\n",
              "      <td>4</td>\n",
              "      <td>4.6</td>\n",
              "      <td>3.1</td>\n",
              "      <td>1.5</td>\n",
              "      <td>0.2</td>\n",
              "      <td>Iris-setosa</td>\n",
              "    </tr>\n",
              "    <tr>\n",
              "      <th>4</th>\n",
              "      <td>5</td>\n",
              "      <td>5.0</td>\n",
              "      <td>3.6</td>\n",
              "      <td>1.4</td>\n",
              "      <td>0.2</td>\n",
              "      <td>Iris-setosa</td>\n",
              "    </tr>\n",
              "  </tbody>\n",
              "</table>\n",
              "</div>"
            ],
            "text/plain": [
              "   Id  SepalLengthCm  SepalWidthCm  PetalLengthCm  PetalWidthCm      Species\n",
              "0   1            5.1           3.5            1.4           0.2  Iris-setosa\n",
              "1   2            4.9           3.0            1.4           0.2  Iris-setosa\n",
              "2   3            4.7           3.2            1.3           0.2  Iris-setosa\n",
              "3   4            4.6           3.1            1.5           0.2  Iris-setosa\n",
              "4   5            5.0           3.6            1.4           0.2  Iris-setosa"
            ]
          },
          "execution_count": 3,
          "metadata": {},
          "output_type": "execute_result"
        }
      ],
      "source": [
        "iris.head()"
      ]
    },
    {
      "cell_type": "code",
      "execution_count": null,
      "id": "11c6badf",
      "metadata": {
        "id": "11c6badf"
      },
      "outputs": [],
      "source": [
        "iris.drop(\"Id\", axis = 1, inplace = True)"
      ]
    },
    {
      "cell_type": "code",
      "execution_count": null,
      "id": "03e31090",
      "metadata": {
        "id": "03e31090",
        "outputId": "086ff1e5-7ad3-4a8e-994d-debc59a3df40"
      },
      "outputs": [
        {
          "data": {
            "text/html": [
              "<div>\n",
              "<style scoped>\n",
              "    .dataframe tbody tr th:only-of-type {\n",
              "        vertical-align: middle;\n",
              "    }\n",
              "\n",
              "    .dataframe tbody tr th {\n",
              "        vertical-align: top;\n",
              "    }\n",
              "\n",
              "    .dataframe thead th {\n",
              "        text-align: right;\n",
              "    }\n",
              "</style>\n",
              "<table border=\"1\" class=\"dataframe\">\n",
              "  <thead>\n",
              "    <tr style=\"text-align: right;\">\n",
              "      <th></th>\n",
              "      <th>SepalLengthCm</th>\n",
              "      <th>SepalWidthCm</th>\n",
              "      <th>PetalLengthCm</th>\n",
              "      <th>PetalWidthCm</th>\n",
              "      <th>Species</th>\n",
              "    </tr>\n",
              "  </thead>\n",
              "  <tbody>\n",
              "    <tr>\n",
              "      <th>0</th>\n",
              "      <td>5.1</td>\n",
              "      <td>3.5</td>\n",
              "      <td>1.4</td>\n",
              "      <td>0.2</td>\n",
              "      <td>Iris-setosa</td>\n",
              "    </tr>\n",
              "    <tr>\n",
              "      <th>1</th>\n",
              "      <td>4.9</td>\n",
              "      <td>3.0</td>\n",
              "      <td>1.4</td>\n",
              "      <td>0.2</td>\n",
              "      <td>Iris-setosa</td>\n",
              "    </tr>\n",
              "    <tr>\n",
              "      <th>2</th>\n",
              "      <td>4.7</td>\n",
              "      <td>3.2</td>\n",
              "      <td>1.3</td>\n",
              "      <td>0.2</td>\n",
              "      <td>Iris-setosa</td>\n",
              "    </tr>\n",
              "    <tr>\n",
              "      <th>3</th>\n",
              "      <td>4.6</td>\n",
              "      <td>3.1</td>\n",
              "      <td>1.5</td>\n",
              "      <td>0.2</td>\n",
              "      <td>Iris-setosa</td>\n",
              "    </tr>\n",
              "    <tr>\n",
              "      <th>4</th>\n",
              "      <td>5.0</td>\n",
              "      <td>3.6</td>\n",
              "      <td>1.4</td>\n",
              "      <td>0.2</td>\n",
              "      <td>Iris-setosa</td>\n",
              "    </tr>\n",
              "  </tbody>\n",
              "</table>\n",
              "</div>"
            ],
            "text/plain": [
              "   SepalLengthCm  SepalWidthCm  PetalLengthCm  PetalWidthCm      Species\n",
              "0            5.1           3.5            1.4           0.2  Iris-setosa\n",
              "1            4.9           3.0            1.4           0.2  Iris-setosa\n",
              "2            4.7           3.2            1.3           0.2  Iris-setosa\n",
              "3            4.6           3.1            1.5           0.2  Iris-setosa\n",
              "4            5.0           3.6            1.4           0.2  Iris-setosa"
            ]
          },
          "execution_count": 5,
          "metadata": {},
          "output_type": "execute_result"
        }
      ],
      "source": [
        "iris.head()"
      ]
    },
    {
      "cell_type": "code",
      "execution_count": null,
      "id": "77fea3ee",
      "metadata": {
        "id": "77fea3ee",
        "outputId": "e5547624-e828-4d3e-ca5f-cd624969442d"
      },
      "outputs": [
        {
          "name": "stdout",
          "output_type": "stream",
          "text": [
            "<class 'pandas.core.frame.DataFrame'>\n",
            "RangeIndex: 150 entries, 0 to 149\n",
            "Data columns (total 5 columns):\n",
            " #   Column         Non-Null Count  Dtype  \n",
            "---  ------         --------------  -----  \n",
            " 0   SepalLengthCm  150 non-null    float64\n",
            " 1   SepalWidthCm   150 non-null    float64\n",
            " 2   PetalLengthCm  150 non-null    float64\n",
            " 3   PetalWidthCm   150 non-null    float64\n",
            " 4   Species        150 non-null    object \n",
            "dtypes: float64(4), object(1)\n",
            "memory usage: 6.0+ KB\n"
          ]
        }
      ],
      "source": [
        "iris.info()"
      ]
    },
    {
      "cell_type": "markdown",
      "id": "b47b8ce8",
      "metadata": {
        "id": "b47b8ce8"
      },
      "source": [
        "# 3.EDA"
      ]
    },
    {
      "cell_type": "code",
      "execution_count": null,
      "id": "22132953",
      "metadata": {
        "id": "22132953",
        "outputId": "1f0753e8-3e8a-4372-a16c-e4516816513c"
      },
      "outputs": [
        {
          "data": {
            "image/png": "[encoded data removed]",
            "text/plain": [
              "<Figure size 720x504 with 1 Axes>"
            ]
          },
          "metadata": {
            "needs_background": "light"
          },
          "output_type": "display_data"
        }
      ],
      "source": [
        "fig = iris[iris.Species == \"Iris-setosa\"].plot(kind = 'scatter', x='SepalLengthCm', y ='SepalWidthCm', color = 'orange', label = \"setosa\" )\n",
        "iris[iris.Species == \"Iris-versicolor\"].plot(kind = 'scatter', x='SepalLengthCm', y ='SepalWidthCm', color = 'blue', label = \"versicolor\", ax = fig )\n",
        "iris[iris.Species == \"Iris-virginica\"].plot(kind = 'scatter', x='SepalLengthCm', y ='SepalWidthCm', color = 'green', label = \"virginica\", ax = fig )\n",
        "\n",
        "fig.set_xlabel(\"Sepal Length\")\n",
        "fig.set_ylabel(\"Sepal Width\")\n",
        "fig.set_title(\"Sepal Length VS Sepal Width\")\n",
        "\n",
        "fig= plt.gcf()\n",
        "fig.set_size_inches(10,7)\n",
        "plt.show()"
      ]
    },
    {
      "cell_type": "code",
      "execution_count": null,
      "id": "bfc294e5",
      "metadata": {
        "id": "bfc294e5",
        "outputId": "d454fcba-2de2-45ac-acc5-3389ddfaf419"
      },
      "outputs": [
        {
          "name": "stderr",
          "output_type": "stream",
          "text": [
            "C:\\Users\\AJANTHA\\anaconda3\\lib\\site-packages\\seaborn\\axisgrid.py:337: UserWarning: The `size` parameter has been renamed to `height`; please update your code.\n",
            "  warnings.warn(msg, UserWarning)\n"
          ]
        },
        {
          "data": {
            "text/plain": [
              "<seaborn.axisgrid.FacetGrid at 0x236926e8280>"
            ]
          },
          "execution_count": 10,
          "metadata": {},
          "output_type": "execute_result"
        },
        {
          "data": {
            "image/png": "[encoded data removed]",
            "text/plain": [
              "<Figure size 463.25x360 with 1 Axes>"
            ]
          },
          "metadata": {
            "needs_background": "light"
          },
          "output_type": "display_data"
        }
      ],
      "source": [
        "sns.FacetGrid(iris, hue = 'Species', size = 5).map(plt.scatter,'SepalLengthCm','SepalWidthCm').add_legend()"
      ]
    },
    {
      "cell_type": "code",
      "execution_count": null,
      "id": "de428fd2",
      "metadata": {
        "id": "de428fd2",
        "outputId": "9b4612a8-03d5-4743-f6a8-527e5488bab2"
      },
      "outputs": [
        {
          "data": {
            "image/png": "[encoded data removed]",
            "text/plain": [
              "<Figure size 576x360 with 1 Axes>"
            ]
          },
          "metadata": {
            "needs_background": "light"
          },
          "output_type": "display_data"
        }
      ],
      "source": [
        "fig = iris[iris.Species == \"Iris-setosa\"].plot(kind = 'scatter', x='PetalLengthCm', y ='PetalWidthCm', color = 'orange', label = \"setosa\" )\n",
        "iris[iris.Species == \"Iris-versicolor\"].plot(kind = 'scatter', x='PetalLengthCm', y ='PetalWidthCm', color = 'blue', label = \"versicolor\", ax = fig )\n",
        "iris[iris.Species == \"Iris-virginica\"].plot(kind = 'scatter', x='PetalLengthCm', y ='PetalWidthCm', color = 'green', label = \"virginica\", ax = fig )\n",
        "\n",
        "fig.set_xlabel(\"Petal Length\")\n",
        "fig.set_ylabel(\"Petal Width\")\n",
        "fig.set_title(\"Petal Length VS Petal Width\")\n",
        "\n",
        "fig= plt.gcf()\n",
        "fig.set_size_inches(8,5)\n",
        "plt.show()"
      ]
    },
    {
      "cell_type": "code",
      "execution_count": null,
      "id": "86485d6f",
      "metadata": {
        "id": "86485d6f",
        "outputId": "7ef9c47b-c268-4bb4-e1f6-4c2e74779dd0"
      },
      "outputs": [
        {
          "data": {
            "image/png": "[encoded data removed]",
            "text/plain": [
              "<Figure size 864x432 with 4 Axes>"
            ]
          },
          "metadata": {
            "needs_background": "light"
          },
          "output_type": "display_data"
        }
      ],
      "source": [
        "iris.hist(edgecolor = 'black', linewidth = 1.2)\n",
        "fig = plt.gcf()\n",
        "fig.set_size_inches(12,6)\n",
        "plt.show()"
      ]
    },
    {
      "cell_type": "markdown",
      "id": "01dffcb1",
      "metadata": {
        "id": "01dffcb1"
      },
      "source": [
        "Classification Model: one or more classses\n",
        "Regression: continous variable\n",
        "\n",
        "Attributes:=> Features\n",
        "\n",
        "Target Variable: => 3 Species\n"
      ]
    },
    {
      "cell_type": "markdown",
      "id": "1175934f",
      "metadata": {
        "id": "1175934f"
      },
      "source": [
        "# Feature Engi"
      ]
    },
    {
      "cell_type": "code",
      "execution_count": null,
      "id": "c405b727",
      "metadata": {
        "id": "c405b727"
      },
      "outputs": [],
      "source": [
        "from sklearn.model_selection import train_test_split\n",
        "from sklearn.linear_model import LogisticRegression\n",
        "from sklearn.neighbors import KNeighborsClassifier\n",
        "from sklearn import svm\n",
        "from sklearn.tree import DecisionTreeClassifier\n",
        "from sklearn import metrics\n",
        "\n"
      ]
    },
    {
      "cell_type": "code",
      "execution_count": null,
      "id": "cdd737d2",
      "metadata": {
        "id": "cdd737d2",
        "outputId": "6b5f760e-074f-4602-bbf6-6ad3abaa8a0b"
      },
      "outputs": [
        {
          "data": {
            "text/plain": [
              "(150, 5)"
            ]
          },
          "execution_count": 14,
          "metadata": {},
          "output_type": "execute_result"
        }
      ],
      "source": [
        "iris.shape"
      ]
    },
    {
      "cell_type": "code",
      "execution_count": null,
      "id": "bb8f4b52",
      "metadata": {
        "id": "bb8f4b52",
        "outputId": "237f9a83-f8ca-40ab-ef2f-0487d7e96279"
      },
      "outputs": [
        {
          "data": {
            "image/png": "[encoded data removed]",
            "text/plain": [
              "<Figure size 720x504 with 2 Axes>"
            ]
          },
          "metadata": {
            "needs_background": "light"
          },
          "output_type": "display_data"
        }
      ],
      "source": [
        "plt.figure(figsize= (10,7))\n",
        "sns.heatmap(iris.corr(),  annot = True,cmap= \"cubehelix_r\")\n",
        "plt.show()"
      ]
    },
    {
      "cell_type": "markdown",
      "id": "3c64ea39",
      "metadata": {
        "id": "3c64ea39"
      },
      "source": [
        "Observation:\n",
        "1. Sepal length and Sepal Width = > not correlated\n",
        "2. Petal length and Petal Width = > high correlated\n",
        "3. 1 Petal Feature and 1 Sepal Feature = > not corr\n",
        "=> Variance, Accuracy\n",
        "\n",
        "4. Algorithm\n",
        "\n",
        "=> train, test\n",
        "=>pass-> training data, fit, transform\n",
        "=> pass -> testing data, predict\n",
        "=> predicted outcome, accuracy"
      ]
    },
    {
      "cell_type": "code",
      "execution_count": null,
      "id": "e470337f",
      "metadata": {
        "id": "e470337f",
        "outputId": "b535e75e-7958-4349-ce87-e91466516fce"
      },
      "outputs": [
        {
          "name": "stdout",
          "output_type": "stream",
          "text": [
            "(105, 5)\n",
            "(45, 5)\n"
          ]
        }
      ],
      "source": [
        "train, test = train_test_split(iris, test_size = 0.3)\n",
        "print(train.shape)\n",
        "print(test.shape)"
      ]
    },
    {
      "cell_type": "code",
      "execution_count": null,
      "id": "a0c5a05a",
      "metadata": {
        "id": "a0c5a05a"
      },
      "outputs": [],
      "source": [
        "train_X = train[['SepalLengthCm','SepalWidthCm','PetalLengthCm', 'PetalWidthCm' ]]\n",
        "train_y = train.Species\n",
        "\n",
        "test_X = test[['SepalLengthCm','SepalWidthCm','PetalLengthCm', 'PetalWidthCm' ]]\n",
        "test_y = test.Species\n"
      ]
    },
    {
      "cell_type": "code",
      "execution_count": null,
      "id": "ad68908d",
      "metadata": {
        "id": "ad68908d",
        "outputId": "7fbe1034-c3c3-4ac3-bc1e-ac2592ce0d87"
      },
      "outputs": [
        {
          "data": {
            "text/html": [
              "<div>\n",
              "<style scoped>\n",
              "    .dataframe tbody tr th:only-of-type {\n",
              "        vertical-align: middle;\n",
              "    }\n",
              "\n",
              "    .dataframe tbody tr th {\n",
              "        vertical-align: top;\n",
              "    }\n",
              "\n",
              "    .dataframe thead th {\n",
              "        text-align: right;\n",
              "    }\n",
              "</style>\n",
              "<table border=\"1\" class=\"dataframe\">\n",
              "  <thead>\n",
              "    <tr style=\"text-align: right;\">\n",
              "      <th></th>\n",
              "      <th>SepalLengthCm</th>\n",
              "      <th>SepalWidthCm</th>\n",
              "      <th>PetalLengthCm</th>\n",
              "      <th>PetalWidthCm</th>\n",
              "    </tr>\n",
              "  </thead>\n",
              "  <tbody>\n",
              "    <tr>\n",
              "      <th>81</th>\n",
              "      <td>5.5</td>\n",
              "      <td>2.4</td>\n",
              "      <td>3.7</td>\n",
              "      <td>1.0</td>\n",
              "    </tr>\n",
              "    <tr>\n",
              "      <th>91</th>\n",
              "      <td>6.1</td>\n",
              "      <td>3.0</td>\n",
              "      <td>4.6</td>\n",
              "      <td>1.4</td>\n",
              "    </tr>\n",
              "    <tr>\n",
              "      <th>139</th>\n",
              "      <td>6.9</td>\n",
              "      <td>3.1</td>\n",
              "      <td>5.4</td>\n",
              "      <td>2.1</td>\n",
              "    </tr>\n",
              "    <tr>\n",
              "      <th>31</th>\n",
              "      <td>5.4</td>\n",
              "      <td>3.4</td>\n",
              "      <td>1.5</td>\n",
              "      <td>0.4</td>\n",
              "    </tr>\n",
              "    <tr>\n",
              "      <th>106</th>\n",
              "      <td>4.9</td>\n",
              "      <td>2.5</td>\n",
              "      <td>4.5</td>\n",
              "      <td>1.7</td>\n",
              "    </tr>\n",
              "  </tbody>\n",
              "</table>\n",
              "</div>"
            ],
            "text/plain": [
              "     SepalLengthCm  SepalWidthCm  PetalLengthCm  PetalWidthCm\n",
              "81             5.5           2.4            3.7           1.0\n",
              "91             6.1           3.0            4.6           1.4\n",
              "139            6.9           3.1            5.4           2.1\n",
              "31             5.4           3.4            1.5           0.4\n",
              "106            4.9           2.5            4.5           1.7"
            ]
          },
          "execution_count": 20,
          "metadata": {},
          "output_type": "execute_result"
        }
      ],
      "source": [
        "train_X.head()"
      ]
    },
    {
      "cell_type": "code",
      "execution_count": null,
      "id": "e76654b2",
      "metadata": {
        "id": "e76654b2",
        "outputId": "5306e50c-1d1e-4624-8711-8bb273acf629"
      },
      "outputs": [
        {
          "data": {
            "text/html": [
              "<div>\n",
              "<style scoped>\n",
              "    .dataframe tbody tr th:only-of-type {\n",
              "        vertical-align: middle;\n",
              "    }\n",
              "\n",
              "    .dataframe tbody tr th {\n",
              "        vertical-align: top;\n",
              "    }\n",
              "\n",
              "    .dataframe thead th {\n",
              "        text-align: right;\n",
              "    }\n",
              "</style>\n",
              "<table border=\"1\" class=\"dataframe\">\n",
              "  <thead>\n",
              "    <tr style=\"text-align: right;\">\n",
              "      <th></th>\n",
              "      <th>SepalLengthCm</th>\n",
              "      <th>SepalWidthCm</th>\n",
              "      <th>PetalLengthCm</th>\n",
              "      <th>PetalWidthCm</th>\n",
              "    </tr>\n",
              "  </thead>\n",
              "  <tbody>\n",
              "    <tr>\n",
              "      <th>111</th>\n",
              "      <td>6.4</td>\n",
              "      <td>2.7</td>\n",
              "      <td>5.3</td>\n",
              "      <td>1.9</td>\n",
              "    </tr>\n",
              "    <tr>\n",
              "      <th>108</th>\n",
              "      <td>6.7</td>\n",
              "      <td>2.5</td>\n",
              "      <td>5.8</td>\n",
              "      <td>1.8</td>\n",
              "    </tr>\n",
              "    <tr>\n",
              "      <th>27</th>\n",
              "      <td>5.2</td>\n",
              "      <td>3.5</td>\n",
              "      <td>1.5</td>\n",
              "      <td>0.2</td>\n",
              "    </tr>\n",
              "    <tr>\n",
              "      <th>59</th>\n",
              "      <td>5.2</td>\n",
              "      <td>2.7</td>\n",
              "      <td>3.9</td>\n",
              "      <td>1.4</td>\n",
              "    </tr>\n",
              "    <tr>\n",
              "      <th>131</th>\n",
              "      <td>7.9</td>\n",
              "      <td>3.8</td>\n",
              "      <td>6.4</td>\n",
              "      <td>2.0</td>\n",
              "    </tr>\n",
              "  </tbody>\n",
              "</table>\n",
              "</div>"
            ],
            "text/plain": [
              "     SepalLengthCm  SepalWidthCm  PetalLengthCm  PetalWidthCm\n",
              "111            6.4           2.7            5.3           1.9\n",
              "108            6.7           2.5            5.8           1.8\n",
              "27             5.2           3.5            1.5           0.2\n",
              "59             5.2           2.7            3.9           1.4\n",
              "131            7.9           3.8            6.4           2.0"
            ]
          },
          "execution_count": 21,
          "metadata": {},
          "output_type": "execute_result"
        }
      ],
      "source": [
        "test_X.head()"
      ]
    },
    {
      "cell_type": "markdown",
      "id": "172f5edb",
      "metadata": {
        "id": "172f5edb"
      },
      "source": [
        "# 5. Classifier"
      ]
    },
    {
      "cell_type": "code",
      "execution_count": null,
      "id": "9367467a",
      "metadata": {
        "id": "9367467a",
        "outputId": "7dd6e4d0-42cc-4e9e-c030-346fc8b60c4d"
      },
      "outputs": [
        {
          "name": "stdout",
          "output_type": "stream",
          "text": [
            "The Accuracy of SVM is:  0.9555555555555556\n"
          ]
        }
      ],
      "source": [
        "# 1. SVM\n",
        "model = svm.SVC()\n",
        "model.fit(train_X, train_y)\n",
        "prediction = model.predict(test_X)\n",
        "print(\"The Accuracy of SVM is: \",metrics.accuracy_score(prediction, test_y))"
      ]
    },
    {
      "cell_type": "code",
      "execution_count": null,
      "id": "d85de998",
      "metadata": {
        "id": "d85de998",
        "outputId": "cfe2de17-6563-4567-cd88-2b1748f82a4b"
      },
      "outputs": [
        {
          "name": "stdout",
          "output_type": "stream",
          "text": [
            "The Accuracy of LR is:  0.9555555555555556\n"
          ]
        }
      ],
      "source": [
        "#2. Logistic Regression\n",
        "\n",
        "model1  = LogisticRegression()\n",
        "model1.fit(train_X, train_y)\n",
        "prediction = model1.predict(test_X)\n",
        "print(\"The Accuracy of LR is: \",metrics.accuracy_score(prediction, test_y))"
      ]
    },
    {
      "cell_type": "code",
      "execution_count": null,
      "id": "87008b88",
      "metadata": {
        "id": "87008b88",
        "outputId": "1ebeca19-8b49-4550-994f-ff83ce3f545f"
      },
      "outputs": [
        {
          "name": "stdout",
          "output_type": "stream",
          "text": [
            "The Accuracy of DT is:  0.9333333333333333\n"
          ]
        }
      ],
      "source": [
        "#3. Decision Tree - CART\n",
        "model2 = DecisionTreeClassifier()\n",
        "model2.fit(train_X, train_y)\n",
        "prediction = model2.predict(test_X)\n",
        "print(\"The Accuracy of DT is: \",metrics.accuracy_score(prediction, test_y))\n"
      ]
    },
    {
      "cell_type": "code",
      "execution_count": null,
      "id": "9f856293",
      "metadata": {
        "id": "9f856293",
        "outputId": "546763e2-4336-4abd-f0e1-44312cc5886d"
      },
      "outputs": [
        {
          "name": "stdout",
          "output_type": "stream",
          "text": [
            "The Accuracy of KNN is:  0.9555555555555556\n"
          ]
        }
      ],
      "source": [
        "# 4. KNN\n",
        "model3 = KNeighborsClassifier(n_neighbors = 3)\n",
        "model3.fit(train_X, train_y)\n",
        "prediction = model3.predict(test_X)\n",
        "print(\"The Accuracy of KNN is: \",metrics.accuracy_score(prediction, test_y))"
      ]
    },
    {
      "cell_type": "markdown",
      "id": "b7334a12",
      "metadata": {
        "id": "b7334a12"
      },
      "source": [
        "# Towards Feature"
      ]
    },
    {
      "cell_type": "code",
      "execution_count": null,
      "id": "1b924a95",
      "metadata": {
        "id": "1b924a95"
      },
      "outputs": [],
      "source": [
        "petal = iris[['PetalLengthCm', 'PetalWidthCm', 'Species']]\n",
        "sepal = iris[['SepalLengthCm','SepalWidthCm', 'Species']]\n"
      ]
    },
    {
      "cell_type": "code",
      "execution_count": null,
      "id": "fc11a12e",
      "metadata": {
        "id": "fc11a12e"
      },
      "outputs": [],
      "source": [
        "#For Petal\n",
        "train_p, test_p = train_test_split(petal, test_size = 0.3, random_state =0)\n",
        "train_x_p = train_p[['PetalLengthCm', 'PetalWidthCm' ]]\n",
        "train_y_p = train_p.Species\n",
        "\n",
        "test_x_p = test_p[['PetalLengthCm', 'PetalWidthCm' ]]\n",
        "test_y_p = test_p.Species\n"
      ]
    },
    {
      "cell_type": "code",
      "execution_count": null,
      "id": "52326517",
      "metadata": {
        "id": "52326517"
      },
      "outputs": [],
      "source": [
        "#For Sepal\n",
        "train_s, test_s = train_test_split(sepal, test_size = 0.3, random_state =0)\n",
        "train_x_s = train_s[['SepalLengthCm','SepalWidthCm' ]]\n",
        "train_y_s = train_s.Species\n",
        "\n",
        "test_x_s = test_s[['SepalLengthCm','SepalWidthCm']]\n",
        "test_y_s = test_s.Species\n"
      ]
    },
    {
      "cell_type": "code",
      "execution_count": null,
      "id": "f77b609d",
      "metadata": {
        "id": "f77b609d",
        "outputId": "0b113109-1f87-469c-fc3f-4865e184ef73"
      },
      "outputs": [
        {
          "name": "stdout",
          "output_type": "stream",
          "text": [
            "The Accuracy of SVM Petal is:  0.9777777777777777\n",
            "The Accuracy of SVM Sepal is:  0.8\n"
          ]
        }
      ],
      "source": [
        "# 1. SVM\n",
        "model = svm.SVC()\n",
        "model.fit(train_x_p, train_y_p)\n",
        "prediction = model.predict(test_x_p)\n",
        "print(\"The Accuracy of SVM Petal is: \",metrics.accuracy_score(prediction, test_y_p))\n",
        "\n",
        "model1 = svm.SVC()\n",
        "model1.fit(train_x_s, train_y_s)\n",
        "prediction1 = model1.predict(test_x_s)\n",
        "print(\"The Accuracy of SVM Sepal is: \",metrics.accuracy_score(prediction1, test_y_s))"
      ]
    },
    {
      "cell_type": "code",
      "execution_count": null,
      "id": "1ef9f85e",
      "metadata": {
        "id": "1ef9f85e"
      },
      "outputs": [],
      "source": []
    }
  ],
  "metadata": {
    "kernelspec": {
      "display_name": "Python 3 (ipykernel)",
      "language": "python",
      "name": "python3"
    },
    "language_info": {
      "codemirror_mode": {
        "name": "ipython",
        "version": 3
      },
      "file_extension": ".py",
      "mimetype": "text/x-python",
      "name": "python",
      "nbconvert_exporter": "python",
      "pygments_lexer": "ipython3",
      "version": "3.9.7"
    },
    "colab": {
      "provenance": [],
      "include_colab_link": true
    }
  },
  "nbformat": 4,
  "nbformat_minor": 5
}